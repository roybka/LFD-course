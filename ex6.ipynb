{
 "cells": [
  {
   "cell_type": "code",
   "execution_count": 4,
   "metadata": {
    "collapsed": true
   },
   "outputs": [],
   "source": [
    "# Initialization and training: \n",
    "from urllib.request import urlopen\n",
    "import numpy as np\n",
    "linkin = \"http://work.caltech.edu/data/in.dta\"\n",
    "\n",
    "linkout=\"http://work.caltech.edu/data/out.dta\"\n",
    "\n",
    "f = urlopen(linkin)\n",
    "\n",
    "def getline(line):\n",
    "    q=line.rstrip()\n",
    "    q=q.decode()\n",
    "    q=q.split()\n",
    "    qq=[float(i) for i in q]\n",
    "    return(qq)\n",
    "stop=0\n",
    "pts=[]\n",
    "outs=[]\n",
    "while not(stop):\n",
    "    myline = f.readline()\n",
    "    if len(myline)<1:\n",
    "        stop=1\n",
    "    else:\n",
    "        a=getline(myline)\n",
    "        pts.append([a[0],a[1]])\n",
    "        outs.append(a[2])\n",
    "newpoints=[[1,x,y,x**2,y**2,x*y,abs(x-y),abs(y+x)] for x,y in pts] \n",
    "X=np.matrix(newpoints)\n",
    "Xpinv=np.linalg.pinv(X)\n",
    "Z=np.inner( Xpinv,outs)\n",
    "W=np.array(Z)"
   ]
  },
  {
   "cell_type": "code",
   "execution_count": 5,
   "metadata": {},
   "outputs": [
    {
     "data": {
      "text/plain": [
       "0.028571428571428581"
      ]
     },
     "execution_count": 5,
     "metadata": {},
     "output_type": "execute_result"
    }
   ],
   "source": [
    "# IN ERROR:\n",
    "outsnew=[np.array(np.inner(X[i],W)) for i in range(len(X))]\n",
    "booli=[-1+2*(outsnew[i]>0) for i in range(len(outsnew))]\n",
    "compare=[booli[i]==outs[i] for i in range (len(outs))]\n",
    "inerr=1-(np.array(compare).sum()/len(compare))\n",
    "inerr"
   ]
  },
  {
   "cell_type": "code",
   "execution_count": 110,
   "metadata": {},
   "outputs": [
    {
     "data": {
      "text/plain": [
       "0.083999999999999964"
      ]
     },
     "execution_count": 110,
     "metadata": {},
     "output_type": "execute_result"
    }
   ],
   "source": [
    "# OUT ERROR:\n",
    "f = urlopen(linkout)\n",
    "\n",
    "stop=0\n",
    "pts=[]\n",
    "outs=[]\n",
    "while not(stop):\n",
    "    myline = f.readline()\n",
    "    if len(myline)<1:\n",
    "        stop=1\n",
    "    else:\n",
    "        a=getline(myline)\n",
    "        pts.append([a[0],a[1]])\n",
    "        outs.append(a[2])\n",
    "newpoints=[[1,x,y,x**2,y**2,x*y,abs(x-y),abs(y+x)] for x,y in pts] \n",
    "X=np.matrix(newpoints)\n",
    "outsnew=[np.array(np.inner(X[i],W)) for i in range(len(X))]\n",
    "booli=[-1+2*(outsnew[i]>0) for i in range(len(outsnew))]\n",
    "compare=[booli[i]==outs[i] for i in range (len(outs))]\n",
    "outerr=1-(np.array(compare).sum()/len(compare))\n",
    "outerr"
   ]
  },
  {
   "cell_type": "code",
   "execution_count": 123,
   "metadata": {},
   "outputs": [
    {
     "ename": "NameError",
     "evalue": "name 'S' is not defined",
     "output_type": "error",
     "traceback": [
      "\u001b[1;31m---------------------------------------------------------------------------\u001b[0m",
      "\u001b[1;31mNameError\u001b[0m                                 Traceback (most recent call last)",
      "\u001b[1;32m<ipython-input-123-00fe423c8205>\u001b[0m in \u001b[0;36m<module>\u001b[1;34m()\u001b[0m\n\u001b[1;32m----> 1\u001b[1;33m \u001b[0mnp\u001b[0m\u001b[1;33m.\u001b[0m\u001b[0mmultiply\u001b[0m\u001b[1;33m(\u001b[0m\u001b[0mS\u001b[0m\u001b[1;33m,\u001b[0m\u001b[0mX\u001b[0m\u001b[1;33m)\u001b[0m\u001b[1;33m.\u001b[0m\u001b[0mshape\u001b[0m\u001b[1;33m\u001b[0m\u001b[0m\n\u001b[0m",
      "\u001b[1;31mNameError\u001b[0m: name 'S' is not defined"
     ]
    }
   ],
   "source": [
    "from urllib.request import urlopen\n",
    "import numpy as np\n",
    "lambda1=10**-3\n",
    "linkin = \"http://work.caltech.edu/data/in.dta\"\n",
    "\n",
    "linkout=\"http://work.caltech.edu/data/out.dta\"\n",
    "\n",
    "f = urlopen(linkin)\n",
    "\n",
    "def getline(line):\n",
    "    q=line.rstrip()\n",
    "    q=q.decode()\n",
    "    q=q.split()\n",
    "    qq=[float(i) for i in q]\n",
    "    return(qq)\n",
    "stop=0\n",
    "pts=[]\n",
    "outs=[]\n",
    "while not(stop):\n",
    "    myline = f.readline()\n",
    "    if len(myline)<1:\n",
    "        stop=1\n",
    "    else:\n",
    "        a=getline(myline)\n",
    "        pts.append([a[0],a[1]])\n",
    "        outs.append(a[2])\n",
    "newpoints=[[1,x,y,x**2,y**2,x*y,abs(x-y),abs(y+x)] for x,y in pts] \n",
    "X=np.matrix(newpoints)\n",
    "S=X.transpose()\n",
    "\n",
    "Xpinv=np.linalg.inv(np.add(S*X,np.identity(8)*lambda1))\n",
    "Zvec=np.inner(Xpinv*S,outs)\n",
    "W=np.array(Zvec)\n",
    "# Xpinv=\n",
    "# Z=np.inner( Xpinv,outs)\n",
    "# W=np.array(Z)"
   ]
  },
  {
   "cell_type": "code",
   "execution_count": 13,
   "metadata": {
    "collapsed": true
   },
   "outputs": [],
   "source": [
    "# Initialization and training: \n",
    "from urllib.request import urlopen\n",
    "import numpy as np\n",
    "outerrs=[]\n",
    "for kappa in [-2,-1,0,1,2]:\n",
    "    lambda1=10**kappa\n",
    "    linkin = \"http://work.caltech.edu/data/in.dta\"\n",
    "\n",
    "    linkout=\"http://work.caltech.edu/data/out.dta\"\n",
    "\n",
    "    f = urlopen(linkin)\n",
    "\n",
    "    def getline(line):\n",
    "        q=line.rstrip()\n",
    "        q=q.decode()\n",
    "        q=q.split()\n",
    "        qq=[float(i) for i in q]\n",
    "        return(qq)\n",
    "    stop=0\n",
    "    pts=[]\n",
    "    outs=[]\n",
    "    while not(stop):\n",
    "        myline = f.readline()\n",
    "        if len(myline)<1:\n",
    "            stop=1\n",
    "        else:\n",
    "            a=getline(myline)\n",
    "            pts.append([a[0],a[1]])\n",
    "            outs.append(a[2])\n",
    "    newpoints=[[1,x,y,x**2,y**2,x*y,abs(x-y),abs(y+x)] for x,y in pts] \n",
    "    X=np.matrix(newpoints)\n",
    "    S=X.transpose()\n",
    "\n",
    "    Xpinv=np.linalg.inv(np.add(S*X,np.identity(8)*lambda1))\n",
    "    Zvec=np.inner(Xpinv*S,outs)\n",
    "    W=np.array(Zvec)\n",
    "    # Xpinv=\n",
    "    # Z=np.inner( Xpinv,outs)\n",
    "    # W=np.array(Z)\n",
    "    f = urlopen(linkout)\n",
    "\n",
    "    stop=0\n",
    "    pts=[]\n",
    "    outs=[]\n",
    "    while not(stop):\n",
    "        myline = f.readline()\n",
    "        if len(myline)<1:\n",
    "            stop=1\n",
    "        else:\n",
    "            a=getline(myline)\n",
    "            pts.append([a[0],a[1]])\n",
    "            outs.append(a[2])\n",
    "    newpoints=[[1,x,y,x**2,y**2,x*y,abs(x-y),abs(y+x)] for x,y in pts] \n",
    "    X=np.matrix(newpoints)\n",
    "    outsnew=[np.array(np.inner(X[i],W)) for i in range(len(X))]\n",
    "    booli=[-1+2*(outsnew[i]>0) for i in range(len(outsnew))]\n",
    "    compare=[booli[i]==outs[i] for i in range (len(outs))]\n",
    "    outerr=1-(np.array(compare).sum()/len(compare))\n",
    "    outerrs.append(outerr)"
   ]
  },
  {
   "cell_type": "code",
   "execution_count": 7,
   "metadata": {},
   "outputs": [
    {
     "data": {
      "text/plain": [
       "0.37142857142857144"
      ]
     },
     "execution_count": 7,
     "metadata": {},
     "output_type": "execute_result"
    }
   ],
   "source": [
    "# IN ERROR:\n",
    "outsnew=[np.array(np.inner(X[i],W)) for i in range(len(X))]\n",
    "booli=[-1+2*(outsnew[i]>0) for i in range(len(outsnew))]\n",
    "compare=[booli[i]==outs[i] for i in range (len(outs))]\n",
    "inerr=1-(np.array(compare).sum()/len(compare))\n",
    "inerr"
   ]
  },
  {
   "cell_type": "code",
   "execution_count": 8,
   "metadata": {},
   "outputs": [
    {
     "data": {
      "text/plain": [
       "0.43600000000000005"
      ]
     },
     "execution_count": 8,
     "metadata": {},
     "output_type": "execute_result"
    }
   ],
   "source": [
    "# OUT ERROR:\n",
    "f = urlopen(linkout)\n",
    "\n",
    "stop=0\n",
    "pts=[]\n",
    "outs=[]\n",
    "while not(stop):\n",
    "    myline = f.readline()\n",
    "    if len(myline)<1:\n",
    "        stop=1\n",
    "    else:\n",
    "        a=getline(myline)\n",
    "        pts.append([a[0],a[1]])\n",
    "        outs.append(a[2])\n",
    "newpoints=[[1,x,y,x**2,y**2,x*y,abs(x-y),abs(y+x)] for x,y in pts] \n",
    "X=np.matrix(newpoints)\n",
    "outsnew=[np.array(np.inner(X[i],W)) for i in range(len(X))]\n",
    "booli=[-1+2*(outsnew[i]>0) for i in range(len(outsnew))]\n",
    "compare=[booli[i]==outs[i] for i in range (len(outs))]\n",
    "outerr=1-(np.array(compare).sum()/len(compare))\n",
    "outerr"
   ]
  },
  {
   "cell_type": "code",
   "execution_count": 14,
   "metadata": {},
   "outputs": [
    {
     "data": {
      "text/plain": [
       "[0.083999999999999964,\n",
       " 0.05600000000000005,\n",
       " 0.091999999999999971,\n",
       " 0.124,\n",
       " 0.22799999999999998]"
      ]
     },
     "execution_count": 14,
     "metadata": {},
     "output_type": "execute_result"
    }
   ],
   "source": [
    "outerrs"
   ]
  },
  {
   "cell_type": "code",
   "execution_count": 10,
   "metadata": {},
   "outputs": [
    {
     "name": "stdout",
     "output_type": "stream",
     "text": [
      "-2\n",
      "-1\n",
      "0\n",
      "1\n",
      "2\n"
     ]
    }
   ],
   "source": [
    "for kappa in [-2,-1,0,1,2]:\n",
    "    print(kappa)"
   ]
  },
  {
   "cell_type": "code",
   "execution_count": 19,
   "metadata": {},
   "outputs": [
    {
     "data": {
      "text/plain": [
       "522"
      ]
     },
     "execution_count": 19,
     "metadata": {},
     "output_type": "execute_result"
    }
   ],
   "source": [
    "10*18+18*18+18"
   ]
  },
  {
   "cell_type": "code",
   "execution_count": 22,
   "metadata": {},
   "outputs": [
    {
     "data": {
      "text/plain": [
       "494"
      ]
     },
     "execution_count": 22,
     "metadata": {},
     "output_type": "execute_result"
    }
   ],
   "source": [
    "10*17+18*17+18"
   ]
  },
  {
   "cell_type": "code",
   "execution_count": 23,
   "metadata": {},
   "outputs": [
    {
     "data": {
      "text/plain": [
       "34"
      ]
     },
     "execution_count": 23,
     "metadata": {},
     "output_type": "execute_result"
    }
   ],
   "source": [
    "10+12+12"
   ]
  },
  {
   "cell_type": "code",
   "execution_count": 24,
   "metadata": {},
   "outputs": [
    {
     "data": {
      "text/plain": [
       "386"
      ]
     },
     "execution_count": 24,
     "metadata": {},
     "output_type": "execute_result"
    }
   ],
   "source": [
    "34*11+12"
   ]
  },
  {
   "cell_type": "code",
   "execution_count": 25,
   "metadata": {},
   "outputs": [
    {
     "data": {
      "text/plain": [
       "474"
      ]
     },
     "execution_count": 25,
     "metadata": {},
     "output_type": "execute_result"
    }
   ],
   "source": [
    "10*15+16*19+20"
   ]
  },
  {
   "cell_type": "code",
   "execution_count": 26,
   "metadata": {},
   "outputs": [
    {
     "data": {
      "text/plain": [
       "485"
      ]
     },
     "execution_count": 26,
     "metadata": {},
     "output_type": "execute_result"
    }
   ],
   "source": [
    "10*16+17*18+19"
   ]
  },
  {
   "cell_type": "code",
   "execution_count": 29,
   "metadata": {},
   "outputs": [
    {
     "name": "stdout",
     "output_type": "stream",
     "text": [
      "438\n",
      "455\n",
      "470\n",
      "483\n",
      "494\n",
      "503\n",
      "510\n"
     ]
    }
   ],
   "source": [
    "def y(M,N):\n",
    "    x=10*M+M*N-10\n",
    "    return x\n",
    "for m in [14,15,16,17,18,19,20]:\n",
    "    n=36-m\n",
    "    print(y(m,n))\n",
    "    "
   ]
  },
  {
   "cell_type": "code",
   "execution_count": null,
   "metadata": {
    "collapsed": true
   },
   "outputs": [],
   "source": []
  }
 ],
 "metadata": {
  "kernelspec": {
   "display_name": "Python 3",
   "language": "python",
   "name": "python3"
  },
  "language_info": {
   "codemirror_mode": {
    "name": "ipython",
    "version": 3
   },
   "file_extension": ".py",
   "mimetype": "text/x-python",
   "name": "python",
   "nbconvert_exporter": "python",
   "pygments_lexer": "ipython3",
   "version": "3.6.4"
  }
 },
 "nbformat": 4,
 "nbformat_minor": 2
}
