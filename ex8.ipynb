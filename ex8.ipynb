{
 "cells": [
  {
   "cell_type": "code",
   "execution_count": 349,
   "metadata": {},
   "outputs": [],
   "source": [
    "from urllib.request import urlopen\n",
    "import numpy as np\n",
    "linkin = \"http://www.amlbook.com/data/zip/features.train\"\n",
    "\n",
    "linkout=\"http://www.amlbook.com/data/zip/features.test\"\n",
    "\n",
    "\n",
    "def getline(line):\n",
    "    q=line.rstrip()\n",
    "    q=q.decode()\n",
    "    q=q.split()\n",
    "    qq=[float(i) for i in q]\n",
    "    return(qq)\n",
    "stop=0\n",
    "lpts=[]\n",
    "lrealdigs=[]\n",
    "vouts=[]\n",
    "vpts=[]\n",
    "inerrs=[]\n",
    "valerrs=[]\n",
    " \n",
    "f = urlopen(linkin)\n",
    "stop=0\n",
    "tpts=[]\n",
    "trealdigs=[]\n",
    "terrs=[]\n",
    "while not(stop):\n",
    "    myline = f.readline()\n",
    "    if len(myline)<1:\n",
    "        stop=1\n",
    "    else:\n",
    "        a=getline(myline)\n",
    "        lpts.append([a[1],a[2]])\n",
    "        lrealdigs.append(a[0])\n",
    "# OUT data:\n",
    "f = urlopen(linkout)\n",
    "\n",
    "stop=0\n",
    "tpts=[]\n",
    "touts=[]\n",
    "terrs=[]\n",
    "while not(stop):\n",
    "    myline = f.readline()\n",
    "    if len(myline)<1:\n",
    "        stop=1\n",
    "    else:\n",
    "        a=getline(myline)\n",
    "        tpts.append([a[1],a[2]])\n",
    "        trealdigs.append(a[0])\n"
   ]
  },
  {
   "cell_type": "code",
   "execution_count": 353,
   "metadata": {},
   "outputs": [
    {
     "data": {
      "text/plain": [
       "7291"
      ]
     },
     "execution_count": 353,
     "metadata": {},
     "output_type": "execute_result"
    }
   ],
   "source": [
    "len(lrealdigs)"
   ]
  },
  {
   "cell_type": "code",
   "execution_count": 1,
   "metadata": {},
   "outputs": [
    {
     "ename": "NameError",
     "evalue": "name 'lrealdigs' is not defined",
     "output_type": "error",
     "traceback": [
      "\u001b[1;31m---------------------------------------------------------------------------\u001b[0m",
      "\u001b[1;31mNameError\u001b[0m                                 Traceback (most recent call last)",
      "\u001b[1;32m<ipython-input-1-5aea99d6fb6c>\u001b[0m in \u001b[0;36m<module>\u001b[1;34m()\u001b[0m\n\u001b[0;32m     14\u001b[0m \u001b[0mtrainerrs\u001b[0m\u001b[1;33m=\u001b[0m\u001b[1;33m[\u001b[0m\u001b[1;33m]\u001b[0m\u001b[1;33m\u001b[0m\u001b[0m\n\u001b[0;32m     15\u001b[0m \u001b[0mtesterrs\u001b[0m\u001b[1;33m=\u001b[0m\u001b[1;33m[\u001b[0m\u001b[1;33m]\u001b[0m\u001b[1;33m\u001b[0m\u001b[0m\n\u001b[1;32m---> 16\u001b[1;33m \u001b[0mlouts\u001b[0m\u001b[1;33m=\u001b[0m\u001b[0mnp\u001b[0m\u001b[1;33m.\u001b[0m\u001b[0mones\u001b[0m\u001b[1;33m(\u001b[0m\u001b[0mlen\u001b[0m\u001b[1;33m(\u001b[0m\u001b[0mlrealdigs\u001b[0m\u001b[1;33m)\u001b[0m\u001b[1;33m)\u001b[0m\u001b[1;33m\u001b[0m\u001b[0m\n\u001b[0m\u001b[0;32m     17\u001b[0m \u001b[0minds\u001b[0m\u001b[1;33m=\u001b[0m\u001b[0mnp\u001b[0m\u001b[1;33m.\u001b[0m\u001b[0margwhere\u001b[0m\u001b[1;33m(\u001b[0m\u001b[0mnp\u001b[0m\u001b[1;33m.\u001b[0m\u001b[0marray\u001b[0m\u001b[1;33m(\u001b[0m\u001b[0mlrealdigs\u001b[0m\u001b[1;33m)\u001b[0m\u001b[1;33m!=\u001b[0m\u001b[0mdig\u001b[0m\u001b[1;33m)\u001b[0m\u001b[1;33m\u001b[0m\u001b[0m\n\u001b[0;32m     18\u001b[0m \u001b[0mlouts\u001b[0m\u001b[1;33m[\u001b[0m\u001b[0minds\u001b[0m\u001b[1;33m]\u001b[0m\u001b[1;33m*=\u001b[0m\u001b[1;33m-\u001b[0m\u001b[1;36m1\u001b[0m\u001b[1;33m\u001b[0m\u001b[0m\n",
      "\u001b[1;31mNameError\u001b[0m: name 'lrealdigs' is not defined"
     ]
    }
   ],
   "source": [
    "# THIS TIME WITH REALLY SOLVING FOR THE SUPPORT VECTORS!\n",
    "import numpy as np\n",
    "import random as rn\n",
    "import matplotlib.pyplot as plt\n",
    "import cvxopt\n",
    "from cvxopt import matrix\n",
    "from cvxopt import solvers\n",
    "# def targetf(y):\n",
    "#         if y==dig:\n",
    "#             return 1\n",
    "#         else: \n",
    "#             return -1\n",
    "dig=2\n",
    "trainerrs=[]\n",
    "testerrs=[]\n",
    "louts=np.ones(len(lrealdigs))\n",
    "inds=np.argwhere(np.array(lrealdigs)!=dig)\n",
    "louts[inds]*=-1\n",
    "touts=np.ones(len(trealdigs))\n",
    "inds=np.argwhere(np.array(trealdigs)!=dig)\n",
    "touts[inds]*=-1\n",
    "\n",
    "toplot=0\n",
    "Nvecs=[]\n",
    "pla_b=[]\n",
    "svm_b=[]\n",
    "Q=2\n",
    "C=0.01\n",
    "mat=np.eye(len(lpts))\n",
    "for i in range(len(lpts)):\n",
    "    for j in range(len(lpts)):\n",
    "        mat[i][j]=louts[i]*louts[j]*(1+np.dot(lpts[i],lpts[j]))**Q\n",
    "            \n",
    "            \n",
    "P=matrix(mat)\n",
    "\n",
    "q=matrix(np.ones(len(louts))*-1,tc='d')\n",
    "A=matrix(np.matrix(louts),tc='d')\n",
    "# A=np.transpose(A)\n",
    "bb=matrix(0,tc='d')\n",
    "G=matrix(np.eye(len(lpts)),tc='d')\n",
    "\n",
    "h=matrix(np.ones(len(louts))*C)\n",
    "sol = solvers.qp(P,q,G,h,A,bb)\n",
    "# solution=cvxopt_solve_qp(P, q,G,h,A,b)\n",
    "a=sol['x']\n",
    "alphas=np.array(a)\n",
    "\n",
    "\n",
    "svs=[]\n",
    "svinds=[]\n",
    "WSVM=[0,0]\n",
    "for i in range(len(alphas)):\n",
    "    if alphas[i]>C*0.8:\n",
    "        svs.append(lpts[i])\n",
    "        WSVM=np.add(WSVM,np.multiply(lpts[i],louts[i])*alphas[i])\n",
    "        svinds.append(i)\n",
    "\n",
    "theb=(louts[svinds[0]]*np.dot(WSVM,lpts[svinds[0]])-1)/-louts[svinds[0]]\n",
    "svs\n",
    "\n",
    "def calcerr(ppts,ppouts):\n",
    "    y12=[np.sign(np.dot(WSVM,pt)+theb) for pt in ppts]\n",
    "    SV_badscnt=sum(np.array(ppouts)!=np.array(y12))\n",
    "    return SV_badscnt/len(ppts)\n",
    "trainerrs.append(calcerr(lpts,louts))\n",
    "testerrs.append(calcerr(tpts,touts))"
   ]
  },
  {
   "cell_type": "code",
   "execution_count": 13,
   "metadata": {},
   "outputs": [],
   "source": [
    "trainerrs=[]\n",
    "testerrs=[]\n",
    "\n",
    "trainerrs.append(calcerr(lpts,louts))\n",
    "testerrs.append(calcerr(tpts,touts))\n"
   ]
  },
  {
   "cell_type": "code",
   "execution_count": 18,
   "metadata": {},
   "outputs": [
    {
     "data": {
      "text/plain": [
       "[0.11509715994020926]"
      ]
     },
     "execution_count": 18,
     "metadata": {},
     "output_type": "execute_result"
    }
   ],
   "source": [
    "testerrs"
   ]
  },
  {
   "cell_type": "code",
   "execution_count": 4,
   "metadata": {},
   "outputs": [
    {
     "ename": "NameError",
     "evalue": "name 'qp_G' is not defined",
     "output_type": "error",
     "traceback": [
      "\u001b[1;31m---------------------------------------------------------------------------\u001b[0m",
      "\u001b[1;31mNameError\u001b[0m                                 Traceback (most recent call last)",
      "\u001b[1;32m<ipython-input-4-30095512ad1b>\u001b[0m in \u001b[0;36m<module>\u001b[1;34m()\u001b[0m\n\u001b[0;32m      1\u001b[0m \u001b[1;32mimport\u001b[0m \u001b[0mquadprog\u001b[0m\u001b[1;33m\u001b[0m\u001b[0m\n\u001b[1;32m----> 2\u001b[1;33m \u001b[0mquadprog\u001b[0m\u001b[1;33m.\u001b[0m\u001b[0msolve_qp\u001b[0m\u001b[1;33m(\u001b[0m\u001b[0mqp_G\u001b[0m\u001b[1;33m,\u001b[0m \u001b[0mqp_a\u001b[0m\u001b[1;33m,\u001b[0m \u001b[0mqp_C\u001b[0m\u001b[1;33m,\u001b[0m \u001b[0mqp_b\u001b[0m\u001b[1;33m,\u001b[0m \u001b[0mmeq\u001b[0m\u001b[1;33m)\u001b[0m\u001b[1;33m[\u001b[0m\u001b[1;36m0\u001b[0m\u001b[1;33m]\u001b[0m\u001b[1;33m\u001b[0m\u001b[0m\n\u001b[0m",
      "\u001b[1;31mNameError\u001b[0m: name 'qp_G' is not defined"
     ]
    }
   ],
   "source": [
    "import quadprog\n",
    "quadprog.solve_qp(qp_G, qp_a, qp_C, qp_b, meq)[0]"
   ]
  },
  {
   "cell_type": "code",
   "execution_count": 48,
   "metadata": {},
   "outputs": [
    {
     "data": {
      "text/plain": [
       "(array([ 6560.,     0.,     0.,     0.,     0.,     0.,     0.,     0.,\n",
       "            0.,   731.]),\n",
       " array([-1. , -0.8, -0.6, -0.4, -0.2,  0. ,  0.2,  0.4,  0.6,  0.8,  1. ]),\n",
       " <a list of 10 Patch objects>)"
      ]
     },
     "execution_count": 48,
     "metadata": {},
     "output_type": "execute_result"
    },
    {
     "data": {
      "image/png": "[encoded data removed]",
      "text/plain": [
       "<matplotlib.figure.Figure at 0x1a14c52e940>"
      ]
     },
     "metadata": {},
     "output_type": "display_data"
    }
   ],
   "source": [
    "plt.hist(louts)"
   ]
  },
  {
   "cell_type": "code",
   "execution_count": 18,
   "metadata": {},
   "outputs": [
    {
     "name": "stdout",
     "output_type": "stream",
     "text": [
      "0.163763544095\n",
      "0.176880916791\n",
      "0.0157728706625\n",
      "0.023418036871\n",
      "0.100260595254\n",
      "0.0986547085202\n",
      "0.0902482512687\n",
      "0.0827105132038\n",
      "0.0894253188863\n",
      "0.0996512207275\n",
      "0.0762584007681\n",
      "0.079720976582\n",
      "0.0910711836511\n",
      "0.0847035376183\n",
      "0.0884652311068\n",
      "0.0732436472347\n",
      "0.0743382252092\n",
      "0.0827105132038\n",
      "0.0883280757098\n",
      "0.0881913303438\n"
     ]
    }
   ],
   "source": [
    "from sklearn import svm\n",
    "trainerrs=[]\n",
    "testerrs=[]\n",
    "Nvecs=[]\n",
    "for dig in range(10):\n",
    "    \n",
    "    louts=np.ones(len(lrealdigs))\n",
    "    inds=np.argwhere(np.array(lrealdigs)!=dig)\n",
    "    louts[inds]*=-1\n",
    "    touts=np.ones(len(trealdigs))\n",
    "    inds=np.argwhere(np.array(trealdigs)!=dig)\n",
    "    touts[inds]*=-1\n",
    "    \n",
    "    svc = svm.SVC(kernel='poly',degree=2,C=10**-2)\n",
    "    svc.fit(lpts, louts) \n",
    "    Nvecs.append(len(svc.support_vectors_))\n",
    "    yp=svc.predict(lpts)\n",
    "    badscntl=louts!=yp\n",
    "    print(sum(badscntl)/len(louts))\n",
    "    trainerrs.append(sum(badscntl)/len(louts))\n",
    "    yp=svc.predict(tpts)\n",
    "    badscntt=touts!=yp\n",
    "    print(sum(badscntt)/len(touts))\n",
    "    testerrs.append(sum(badscntt)/len(touts))"
   ]
  },
  {
   "cell_type": "code",
   "execution_count": 20,
   "metadata": {},
   "outputs": [
    {
     "data": {
      "text/plain": [
       "[0.16376354409546015,\n",
       " 0.015772870662460567,\n",
       " 0.10026059525442327,\n",
       " 0.090248251268687421,\n",
       " 0.089425318886298177,\n",
       " 0.076258400768070222,\n",
       " 0.091071183651076665,\n",
       " 0.088465231106844053,\n",
       " 0.074338225209161987,\n",
       " 0.088328075709779186]"
      ]
     },
     "execution_count": 20,
     "metadata": {},
     "output_type": "execute_result"
    }
   ],
   "source": [
    "trainerrs"
   ]
  },
  {
   "cell_type": "code",
   "execution_count": 340,
   "metadata": {},
   "outputs": [
    {
     "name": "stdout",
     "output_type": "stream",
     "text": [
      "0.0001\n",
      "0.001\n",
      "0.01\n",
      "0.1\n",
      "1\n",
      "0.0001\n",
      "0.001\n",
      "0.01\n",
      "0.1\n",
      "1\n"
     ]
    }
   ],
   "source": [
    "from sklearn import svm\n",
    "trainerrs=[]\n",
    "testerrs=[]\n",
    "Nvecs=[]\n",
    "\n",
    "\n",
    "louts=np.ones(len(lrealdigs))*0\n",
    "\n",
    "inds1=np.argwhere(np.array(lrealdigs)==1)\n",
    "louts[inds1]+=1\n",
    "inds2=np.argwhere(np.array(lrealdigs)==5)\n",
    "louts[inds2]+=-1\n",
    "lnewpts=[lpts[i] for i in range(len(lpts)) if (i in inds1) or (i in inds2) ]\n",
    "lnewouts=[louts[i] for i in range(len(lpts)) if (i in inds1) or (i in inds2)]\n",
    "\n",
    "touts=np.ones(len(trealdigs))*0\n",
    "inds1=np.argwhere(np.array(trealdigs)==1)\n",
    "touts[inds1]+=1\n",
    "inds2=np.argwhere(np.array(trealdigs)==5)\n",
    "touts[inds2]+=-1\n",
    "tnewpts=[tpts[i] for i in range(len(tpts)) if (i in inds1) or (i in inds2) ]\n",
    "tnewouts=[touts[i] for i in range(len(tpts)) if (i in inds1) or (i in inds2)]\n",
    "# newpts=lpts[inds1]\n",
    "for Q in [2,5]:\n",
    "    for CC in [0.0001,0.001,0.01,0.1,1]:\n",
    "    # touts=np.ones(len(trealdigs))\n",
    "    # inds=np.argwhere(np.array(trealdigs)!=dig)\n",
    "    # touts[inds]*=-1\n",
    "        print(CC)\n",
    "        svc = svm.SVC(kernel='poly',degree=Q,C=CC)\n",
    "        svc.fit(lnewpts, lnewouts) \n",
    "        Nvecs.append(len(svc.support_vectors_))\n",
    "        yp=svc.predict(lnewpts)\n",
    "        badscntl=lnewouts!=yp\n",
    "        # print(sum(badscntl)/len(louts))\n",
    "        trainerrs.append(sum(badscntl)/len(lnewouts))\n",
    "        yp=svc.predict(tnewpts)\n",
    "        badscntt=tnewouts!=yp\n",
    "    #     print(sum(badscntt)/len(tnewouts))\n",
    "        testerrs.append(sum(badscntt)/len(tnewouts))"
   ]
  },
  {
   "cell_type": "code",
   "execution_count": 354,
   "metadata": {},
   "outputs": [],
   "source": [
    "louts=np.ones(len(lrealdigs))*0\n",
    "\n",
    "inds1=np.argwhere(np.array(lrealdigs)==1)\n",
    "louts[inds1]+=1\n",
    "inds2=np.argwhere(np.array(lrealdigs)==5)\n",
    "louts[inds2]+=-1\n",
    "lnewpts=[lpts[i] for i in range(len(lpts)) if (i in inds1) or (i in inds2) ]\n",
    "lnewouts=[louts[i] for i in range(len(lpts)) if (i in inds1) or (i in inds2)]\n",
    "\n",
    "\n",
    "# inds1=np.argwhere(np.array(lrealdigs)==1)\n",
    "# inds2=np.argwhere(np.array(lrealdigs)==2)\n",
    "newpts=[lpts[i] for i in range(len(lpts)) if (i in inds1) or (i in inds2) ]\n",
    "newouts=np.array([louts[i] for i in range(len(lpts)) if (i in inds1) or (i in inds2)])\n"
   ]
  },
  {
   "cell_type": "code",
   "execution_count": 359,
   "metadata": {},
   "outputs": [
    {
     "data": {
      "text/plain": [
       "1561"
      ]
     },
     "execution_count": 359,
     "metadata": {},
     "output_type": "execute_result"
    }
   ],
   "source": [
    "np.reshape(testerrs,[2,5])\n",
    "len(newpts)"
   ]
  },
  {
   "cell_type": "code",
   "execution_count": 380,
   "metadata": {},
   "outputs": [],
   "source": [
    "newpts1=np.array(newpts)\n",
    "allmeanverrs=[]\n",
    "for i in range(100):\n",
    "    inds= np.random.permutation(range(len(newpts)))\n",
    "    k=int(np.floor(len(inds)/10))\n",
    "    cvpts=[]#np.ndarray((10,k))\n",
    "    masker=[]\n",
    "    masker=np.zeros(len(newpts))\n",
    "    \n",
    "\n",
    "    for i in range(10):\n",
    "        idds=inds[k*i:k*(i+1)]\n",
    "        meantime=[newpts[ii] for ii in idds]\n",
    "        cvpts.append(meantime)\n",
    "        masker[idds]=i\n",
    "    meanverrs=[]\n",
    "    for CC in [0.0001,0.001,0.01,0.1,1]:\n",
    "        linerrs=[]\n",
    "        vinerrs=[]\n",
    "        for i in range(10):\n",
    "            indsofv=masker==i\n",
    "            indsofl=masker!=i\n",
    "            lpts=newpts1[indsofl]\n",
    "            vpts=newpts1[indsofv]\n",
    "            louts=newouts[indsofl]\n",
    "            vouts=newouts[indsofv]\n",
    "            svc = svm.SVC(kernel='poly',degree=Q,C=CC)\n",
    "            svc.fit(lpts, louts) \n",
    "            yp=svc.predict(lpts)\n",
    "            linerrs.append(sum(louts!=yp)/len(louts))\n",
    "            yp=svc.predict(vpts)\n",
    "            vinerrs.append(sum(vouts!=yp)/len(vouts))\n",
    "        meanverrs.append(np.average(vinerrs))\n",
    "    allmeanverrs.append(meanverrs)\n",
    "# newpts2=\n",
    "\n",
    "# Q=2\n",
    "# for CC in [0.0001,0.001,0.01,0.1,1]:\n",
    "# # touts=np.ones(len(trealdigs))\n",
    "# # inds=np.argwhere(np.array(trealdigs)!=dig)\n",
    "# # touts[inds]*=-1\n",
    "#     print(CC)\n",
    "#     svc = svm.SVC(kernel='poly',degree=Q,C=CC)\n",
    "#     svc.fit(lnewpts, lnewouts) \n",
    "#     Nvecs.append(len(svc.support_vectors_))\n",
    "#     yp=svc.predict(lnewpts)\n",
    "#     badscntl=lnewouts!=yp\n",
    "#     # print(sum(badscntl)/len(louts))\n",
    "#     trainerrs.append(sum(badscntl)/len(lnewouts))\n",
    "#     yp=svc.predict(tnewpts)\n",
    "#     badscntt=tnewouts!=yp\n",
    "# #     print(sum(badscntt)/len(tnewouts))\n",
    "#     testerrs.append(sum(badscntt)/len(tnewouts))"
   ]
  },
  {
   "cell_type": "code",
   "execution_count": 391,
   "metadata": {},
   "outputs": [],
   "source": [
    "for i in range(100):\n",
    "    www=np.where(allmeanverrs[i]==min(allmeanverrs[i]))\n",
    "#     print(www)"
   ]
  },
  {
   "cell_type": "code",
   "execution_count": 386,
   "metadata": {},
   "outputs": [],
   "source": [
    "c01=[i[1] for i in allmeanverrs]"
   ]
  },
  {
   "cell_type": "code",
   "execution_count": 407,
   "metadata": {},
   "outputs": [],
   "source": [
    "inds= np.random.permutation(range(len(newpts)))\n",
    "k=int(np.floor(len(inds)/10))\n",
    "cvpts=[]#np.ndarray((10,k))\n",
    "masker=[]\n",
    "masker=np.zeros(len(newpts))\n",
    "lerrs=[]\n",
    "terrs=[]\n",
    "for i in range(10):\n",
    "    idds=inds[k*i:k*(i+1)]\n",
    "    meantime=[newpts[ii] for ii in idds]\n",
    "    cvpts.append(meantime)\n",
    "    masker[idds]=i\n",
    "meanverrs=[]\n",
    "for CC in [0.01,1,100,10**4,10**6]:\n",
    "    lpts=newpts1\n",
    "    louts=newouts\n",
    "    svc = svm.SVC(kernel='rbf',gamma=1,C=CC)\n",
    "    svc.fit(lpts, louts) \n",
    "    yp=svc.predict(lpts)\n",
    "    err=(sum(louts!=yp)/len(louts))\n",
    "    lerrs.append(err)\n",
    "    yp=svc.predict(tnewpts)\n",
    "    err=(sum(tnewouts!=yp)/len(tnewouts))\n",
    "    terrs.append(err)\n",
    "#     linerrs=[]\n",
    "#     vinerrs=[]\n",
    "#     for i in range(10):\n",
    "#         indsofv=masker==i\n",
    "#         indsofl=masker!=i\n",
    "#         lpts=newpts1[indsofl]\n",
    "#         vpts=newpts1[indsofv]\n",
    "#         louts=newouts[indsofl]\n",
    "#         vouts=newouts[indsofv]\n",
    "#         svc = svm.SVC(kernel='poly',degree=Q,C=CC)\n",
    "#         svc.fit(lpts, louts) \n",
    "#         yp=svc.predict(lpts)\n",
    "#         linerrs.append(sum(louts!=yp)/len(louts))\n",
    "#         yp=svc.predict(vpts)\n",
    "#         vinerrs.append(sum(vouts!=yp)/len(vouts))\n",
    "    meanverrs.append(np.average(vinerrs))\n",
    "allmeanverrs.append(meanverrs)"
   ]
  },
  {
   "cell_type": "code",
   "execution_count": 400,
   "metadata": {},
   "outputs": [],
   "source": [
    "lpts=newpts1\n",
    "louts=newouts\n",
    "svc = svm.SVC(kernel='rbf',gamma=1,C=CC)\n",
    "svc.fit(lpts, louts) \n",
    "yp=svc.predict(lpts)\n",
    "err=(sum(louts!=yp)/len(louts))"
   ]
  },
  {
   "cell_type": "code",
   "execution_count": 406,
   "metadata": {},
   "outputs": [
    {
     "data": {
      "text/plain": [
       "424"
      ]
     },
     "execution_count": 406,
     "metadata": {},
     "output_type": "execute_result"
    }
   ],
   "source": [
    "len(tnewpts)\n",
    "len(tnewouts)"
   ]
  },
  {
   "cell_type": "code",
   "execution_count": 408,
   "metadata": {},
   "outputs": [
    {
     "data": {
      "text/plain": [
       "[0.02358490566037736,\n",
       " 0.021226415094339621,\n",
       " 0.018867924528301886,\n",
       " 0.02358490566037736,\n",
       " 0.02358490566037736]"
      ]
     },
     "execution_count": 408,
     "metadata": {},
     "output_type": "execute_result"
    }
   ],
   "source": [
    "terrs"
   ]
  },
  {
   "cell_type": "code",
   "execution_count": null,
   "metadata": {},
   "outputs": [],
   "source": []
  }
 ],
 "metadata": {
  "kernelspec": {
   "display_name": "Python 3",
   "language": "python",
   "name": "python3"
  },
  "language_info": {
   "codemirror_mode": {
    "name": "ipython",
    "version": 3
   },
   "file_extension": ".py",
   "mimetype": "text/x-python",
   "name": "python",
   "nbconvert_exporter": "python",
   "pygments_lexer": "ipython3",
   "version": "3.5.4"
  }
 },
 "nbformat": 4,
 "nbformat_minor": 2
}
